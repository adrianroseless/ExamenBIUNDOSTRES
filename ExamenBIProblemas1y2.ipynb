{
 "cells": [
  {
   "cell_type": "markdown",
   "metadata": {},
   "source": [
    "## Problema 1"
   ]
  },
  {
   "attachments": {},
   "cell_type": "markdown",
   "metadata": {},
   "source": [
    "<img src=\"problema1.jpg\">"
   ]
  },
  {
   "cell_type": "markdown",
   "metadata": {},
   "source": [
    "1. Escribe un código para determinar, mediante simulaciones, la probabilidad de que, escogiendo un punto al azar dentro del cuadrado, éste se encuentre dentro del círculo. Calcula esta probabilidad bajo al menos 3 distintos números de iteraciones, de distinto orden de magnitud.\n",
    "2. Analíticamente, ¿Cuál debería ser esta probabilidad?\n",
    "3. De acuerdo con 2), el código que realizaste en 1) sirve para aproximar ¿Qué famosa constante? Modifica el número de iteraciones en tu código hasta dar correctamente los primeros cuatro decimales de esta constante. ¿Cuántas iteraciones fueron suficientes?\n"
   ]
  },
  {
   "cell_type": "markdown",
   "metadata": {},
   "source": [
    "### Codigo"
   ]
  },
  {
   "cell_type": "code",
   "execution_count": 7,
   "metadata": {},
   "outputs": [],
   "source": [
    "import numpy as np\n",
    "import math"
   ]
  },
  {
   "cell_type": "markdown",
   "metadata": {},
   "source": [
    "#### 1.-Variables iniciales"
   ]
  },
  {
   "cell_type": "code",
   "execution_count": 25,
   "metadata": {},
   "outputs": [],
   "source": [
    "vAciertos= 0 \n",
    "N = 100"
   ]
  },
  {
   "cell_type": "markdown",
   "metadata": {},
   "source": [
    "#### 2.- Generar N puntos aleatorios (x,y)"
   ]
  },
  {
   "cell_type": "code",
   "execution_count": 26,
   "metadata": {},
   "outputs": [],
   "source": [
    "x, y = np.random.uniform(-0.5, 0.5, size=(2, N))"
   ]
  },
  {
   "cell_type": "markdown",
   "metadata": {},
   "source": [
    "#### 3.- Bucle For que recorre los puntos"
   ]
  },
  {
   "cell_type": "code",
   "execution_count": 27,
   "metadata": {},
   "outputs": [
    {
     "name": "stdout",
     "output_type": "stream",
     "text": [
      "78\n"
     ]
    }
   ],
   "source": [
    "for (a, b) in zip (x, y):\n",
    "    p= math.sqrt(a**2+b**2)\n",
    "    if (p<0.5):\n",
    "        vAciertos +=1\n",
    "print(vAciertos)"
   ]
  },
  {
   "cell_type": "markdown",
   "metadata": {},
   "source": [
    "#### 4.- Mostrando resultados"
   ]
  },
  {
   "cell_type": "code",
   "execution_count": 28,
   "metadata": {},
   "outputs": [
    {
     "name": "stdout",
     "output_type": "stream",
     "text": [
      "Número de aciertos:  78\n",
      "Número de fallos:  22\n",
      "Valor aproximado de Pi: 3.12\n"
     ]
    }
   ],
   "source": [
    "print(\"Número de aciertos: \", vAciertos)\n",
    "print(\"Número de fallos: \", N-vAciertos)\n",
    "print(\"Valor aproximado de Pi:\", (4* (vAciertos/N)))"
   ]
  },
  {
   "cell_type": "markdown",
   "metadata": {},
   "source": [
    "### Mejorando \n",
    "Entre más se aumente el tamaño del experimento se llegue a una cantidad más aproximada de PI, usemos 10,000,0000 como la cantidad de experimentos.\n"
   ]
  },
  {
   "cell_type": "code",
   "execution_count": 31,
   "metadata": {},
   "outputs": [
    {
     "name": "stdout",
     "output_type": "stream",
     "text": [
      "Número de aciertos:  157073480\n",
      "Número de fallos:  42926520\n",
      "Valor aproximado de Pi: 3.1414696\n"
     ]
    }
   ],
   "source": [
    "vAciertos= 0 \n",
    "N = 200000000\n",
    "x, y = np.random.uniform(-0.5, 0.5, size=(2, N))\n",
    "for (a, b) in zip (x, y):\n",
    "    p= math.sqrt(a**2+b**2)\n",
    "    if (p<0.5):\n",
    "        vAciertos +=1\n",
    "print(\"Número de aciertos: \", vAciertos)\n",
    "print(\"Número de fallos: \", N-vAciertos)\n",
    "print(\"Valor aproximado de Pi:\", (4* (vAciertos/N)))"
   ]
  },
  {
   "cell_type": "markdown",
   "metadata": {},
   "source": [
    "Este metodo se llama Monte Carlo y tiene distintas aplicaciones, para el calculo aproximadamente se necesitan 10 veces el número de iteraciones del número significativo anterior para obtener uno nuevo. \n",
    "\n",
    "Con 100,000,000 solo conseguí 3 para obtener 3.1415 se necesitaran alrededor de mil millones de iteraciones. "
   ]
  },
  {
   "cell_type": "markdown",
   "metadata": {},
   "source": [
    "# Problema 2"
   ]
  },
  {
   "cell_type": "code",
   "execution_count": 33,
   "metadata": {},
   "outputs": [
    {
     "name": "stdout",
     "output_type": "stream",
     "text": [
      "La longitud de la lista es:  10\n"
     ]
    }
   ],
   "source": [
    "# 1.- Determinar la lista:\n",
    "lista = [1,3,5,1,7,4,8,2,2,4]\n",
    "N= len(lista)\n",
    "print(\"La longitud de la lista es: \", N)"
   ]
  },
  {
   "cell_type": "code",
   "execution_count": 34,
   "metadata": {},
   "outputs": [],
   "source": [
    "# 2.- Crear listas vacias una para guardar los leidos y otra para guardar los repetidos\n",
    "listaLeidos =[]\n",
    "listaDuplicados=[]\n"
   ]
  },
  {
   "cell_type": "code",
   "execution_count": 36,
   "metadata": {},
   "outputs": [
    {
     "name": "stdout",
     "output_type": "stream",
     "text": [
      "[1, 3, 5, 1, 7, 4, 8, 2, 2, 4]\n",
      "[1, 3, 5, 7, 4, 8, 2]\n",
      "[1, 2, 4]\n"
     ]
    }
   ],
   "source": [
    "# 3.- Leer cada componente de la lista\n",
    "for v in lista: \n",
    "    #3.1 verificar que v no esté en la lista de Duplicados\n",
    "    if not(v in listaDuplicados):\n",
    "        #3.1.1 Dentro del if, verificar si esta en la de lista de leidos y si lo está agregar el valor a la lista de duplicados\n",
    "        if (v in listaLeidos): \n",
    "            listaDuplicados.append(v)\n",
    "        #3.1.2 De lo contrario, agregar a la lista de leidos\n",
    "        else: \n",
    "            listaLeidos.append(v)\n",
    "print(lista)\n",
    "print(listaLeidos)\n",
    "print(listaDuplicados)"
   ]
  },
  {
   "cell_type": "code",
   "execution_count": 37,
   "metadata": {},
   "outputs": [
    {
     "name": "stdout",
     "output_type": "stream",
     "text": [
      "La longitud de la lista es:  14\n",
      "[1, 3, 5, 1, 7, 4, 8, 2, 2, 4, 15, 18, 32, 15]\n",
      "[1, 3, 5, 7, 4, 8, 2, 15, 18, 32]\n",
      "[1, 2, 4, 15]\n"
     ]
    }
   ],
   "source": [
    "# 1.- Determinar la lista:\n",
    "lista = [1,3,5,1,7,4,8,2,2,4,15, 18, 32, 15]\n",
    "N= len(lista)\n",
    "print(\"La longitud de la lista es: \", N)\n",
    "# 2.- Crear listas vacias una para guardar los leidos y otra para guardar los repetidos\n",
    "listaLeidos =[]\n",
    "listaDuplicados=[]\n",
    "# 3.- Leer cada componente de la lista\n",
    "for v in lista: \n",
    "    #3.1 verificar que v no esté en la lista de Duplicados\n",
    "    if not(v in listaDuplicados):\n",
    "        #3.1.1 Dentro del if, verificar si esta en la de lista de leidos y si lo está agregar el valor a la lista de duplicados\n",
    "        if (v in listaLeidos): \n",
    "            listaDuplicados.append(v)\n",
    "        #3.1.2 De lo contrario, agregar a la lista de leidos\n",
    "        else: \n",
    "            listaLeidos.append(v)\n",
    "print(lista)\n",
    "print(listaLeidos)\n",
    "print(listaDuplicados)\n"
   ]
  },
  {
   "cell_type": "code",
   "execution_count": null,
   "metadata": {},
   "outputs": [],
   "source": []
  }
 ],
 "metadata": {
  "kernelspec": {
   "display_name": "Python 3",
   "language": "python",
   "name": "python3"
  },
  "language_info": {
   "codemirror_mode": {
    "name": "ipython",
    "version": 3
   },
   "file_extension": ".py",
   "mimetype": "text/x-python",
   "name": "python",
   "nbconvert_exporter": "python",
   "pygments_lexer": "ipython3",
   "version": "3.7.1"
  }
 },
 "nbformat": 4,
 "nbformat_minor": 2
}
